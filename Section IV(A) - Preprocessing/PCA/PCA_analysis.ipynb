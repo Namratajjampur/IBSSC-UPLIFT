{
 "cells": [
  {
   "cell_type": "code",
   "execution_count": 20,
   "metadata": {},
   "outputs": [],
   "source": [
    "import pandas as pd\n",
    "import numpy as np\n",
    "from sklearn.model_selection import train_test_split\n",
    "from sklearn.preprocessing import StandardScaler\n",
    "from sklearn.decomposition import PCA\n",
    "import matplotlib.pyplot as plt"
   ]
  },
  {
   "cell_type": "code",
   "execution_count": 26,
   "metadata": {},
   "outputs": [
    {
     "name": "stdout",
     "output_type": "stream",
     "text": [
      "129\n"
     ]
    }
   ],
   "source": [
    "df= pd.read_csv(r'C:\\\\Users\\\\rames\\\\OneDrive\\\\Desktop\\\\namma\\\\DA_proj\\\\preprocessed_wosq.csv')\n",
    "di = {1: \"extreme poverty\", 2: \"moderate poverty\",3:\"vulnerable households\",4:\"non vulnerable households\"}\n",
    "df['Target']=df['Target'].map(di)\n",
    "class_names=df.Target.unique()\n",
    "a=df\n",
    "class_names=list(class_names)\n",
    "col1=list(df.columns)\n",
    "#finding columns with object as datatypes and removing them for classification\n",
    "data_notnum = list(a.select_dtypes(exclude=[np.number]).columns)\n",
    "zero_cols = [ col for col, is_zero in ((df == 0).sum() == df.shape[0]).items() if is_zero ]\n",
    "col1=list(filter(lambda a: a not in data_notnum , col1))\n",
    "#print(len(col1))\n",
    "col1=list(set(col1) - set(zero_cols)) #removing columns with zero variance\n",
    "X_sq = df[col1] # features for dataset without squared parameters\n",
    "y_sq = df.Target #target"
   ]
  },
  {
   "cell_type": "code",
   "execution_count": 27,
   "metadata": {},
   "outputs": [
    {
     "data": {
      "text/plain": [
       "128"
      ]
     },
     "execution_count": 27,
     "metadata": {},
     "output_type": "execute_result"
    }
   ],
   "source": [
    "#len(col1)"
   ]
  },
  {
   "cell_type": "code",
   "execution_count": 28,
   "metadata": {},
   "outputs": [],
   "source": [
    "X_train, X_test, y_train, y_test = train_test_split(X_sq, y_sq, test_size=0.3, random_state=1)"
   ]
  },
  {
   "cell_type": "code",
   "execution_count": 35,
   "metadata": {},
   "outputs": [
    {
     "data": {
      "text/plain": [
       "6689"
      ]
     },
     "execution_count": 35,
     "metadata": {},
     "output_type": "execute_result"
    }
   ],
   "source": [
    "len(X_train)"
   ]
  },
  {
   "cell_type": "code",
   "execution_count": 56,
   "metadata": {},
   "outputs": [],
   "source": [
    "def PCA_analyse(X_train,X_test):\n",
    "    scaler = StandardScaler()\n",
    "    scaler.fit(X_train)\n",
    "    X_train_std = scaler.fit_transform(X_train)\n",
    "    X_test_std = scaler.transform(X_test)\n",
    "    pca_trial=PCA()\n",
    "    pca_trial.fit(X_train_std)\n",
    "    plt.plot(np.cumsum(pca_trial.explained_variance_ratio_),label=\"Individual variance\")\n",
    "    print(\"As we can see that most of cumulative variances reaches 95% at around 80 dimension, we will use this for further training\")\n",
    "    pca = PCA(0.95)\n",
    "    pca.fit(X_train_std)\n",
    "    new=pca.fit_transform(X_train_std)\n",
    "    plt.plot(np.cumsum(pca.explained_variance_ratio_),label=\"Cumulative variance\")\n",
    "    plt.xlabel('number of components')\n",
    "    plt.ylabel('variance');\n",
    "    plt.legend()\n",
    "    print(\"original dimensions:\" ,X_train_std.shape)\n",
    "    print(\"After dimensionality reduction (upto 95% cumulative variance):\",new.shape)\n",
    "    train_test=[]\n",
    "    train_test.append(pca.transform(X_train_std))\n",
    "    train_test.append(pca.transform(X_test_std))\n",
    "    \n",
    "    return train_test"
   ]
  },
  {
   "cell_type": "code",
   "execution_count": 57,
   "metadata": {},
   "outputs": [
    {
     "name": "stdout",
     "output_type": "stream",
     "text": [
      "As we can see that most of cumulative variances reaches 95% at around 80 dimension, we will use this for further training\n",
      "original dimensions: (6689, 128)\n",
      "After dimensionality reduction (upto 95% cumulative variance): (6689, 81)\n"
     ]
    },
    {
     "data": {
      "image/png": "[encoded data removed]",
      "text/plain": [
       "<Figure size 432x288 with 1 Axes>"
      ]
     },
     "metadata": {
      "needs_background": "light"
     },
     "output_type": "display_data"
    }
   ],
   "source": [
    "train,test=PCA_analyse(X_train,X_test)"
   ]
  },
  {
   "cell_type": "code",
   "execution_count": null,
   "metadata": {},
   "outputs": [],
   "source": []
  },
  {
   "cell_type": "code",
   "execution_count": null,
   "metadata": {},
   "outputs": [],
   "source": []
  }
 ],
 "metadata": {
  "kernelspec": {
   "display_name": "Python 3",
   "language": "python",
   "name": "python3"
  },
  "language_info": {
   "codemirror_mode": {
    "name": "ipython",
    "version": 3
   },
   "file_extension": ".py",
   "mimetype": "text/x-python",
   "name": "python",
   "nbconvert_exporter": "python",
   "pygments_lexer": "ipython3",
   "version": "3.7.3"
  }
 },
 "nbformat": 4,
 "nbformat_minor": 2
}
